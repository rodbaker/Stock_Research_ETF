{
 "cells": [
  {
   "cell_type": "markdown",
   "id": "dc00fc05",
   "metadata": {},
   "source": [
    "# How to Evaluate and Compare ETFs\n",
    "\n",
    "Ideas for this came from [How to Evaluate and Compare ETFs](https://stablebread.com/how-to-evaluate-and-compare-etfs/)\n",
    "\n",
    "\n",
    "### Tracking Efficiency\n",
    "Tracking efficiency refers to how well a particular ETF tracks the underlying index it's designated to track. In large, this is the entire reason ETFs exist (to deliver identical returns for a particular index), so ensuring that an ETF closely tracks its underlying index is crucial. This section of the article will therefore explain what to examine to best evaluate tracking efficiency. Typically, an ETF should only be considered for further evaluation if it manages to pass this check.\n",
    "\n",
    "To begin evaluating whether an ETF efficiently tracks its underlying index, you can examine \"tracking error\" and \"tracking difference.\"\n",
    "\n",
    "\n",
    "#### Tracking Error\n",
    "\"Tracking error\" is the standard deviation of returns between the ETF and what the ETF is designated to track. In other words, tracking error is about the volatility in the difference of performance between an ETF and its index. Tracking error therefore does not provide any insight on an ETF's performance.\n",
    "\n",
    "Tracking error can be calculated using the formula below:\n",
    "\n",
    "\n",
    "\n",
    "\n",
    "<span style='background :yellow' > Tracking error = Standard deviation of (P - B) </span>\n",
    "\n",
    "where:\n",
    "\n",
    "P = portfolio return\n",
    "B = benchmark return\n",
    "\n",
    "Calculating the standard deviation of a data series for daily differences in tracking error will result in a number, which can then be used to compare against other ETFs who are tracking that same index. Obviously, the lower the tracking error number, the better.\n"
   ]
  },
  {
   "cell_type": "code",
   "execution_count": 1,
   "id": "e0b49fcc",
   "metadata": {},
   "outputs": [],
   "source": [
    "# import required packages\n",
    "import pandas as pd\n",
    "import numpy as np\n",
    "import requests\n",
    "import yfinance as yf\n",
    "import matplotlib.pyplot as plt\n",
    "%matplotlib inline"
   ]
  },
  {
   "cell_type": "markdown",
   "id": "9882f560",
   "metadata": {},
   "source": [
    "## I will analyse VAS (VANGUARD AUSTRALIAN SHARES INDEX ETF)\n",
    "\n",
    "### download 1-year+ closing price data for an ETF and its benchmark index.\n",
    "The ETF seeks to track the return (income and capital appreciation) of the S&P/ASX 300 Index before taking into account fund fees, expenses, and tax. The S&P/ASX 300 Accumulation Index is a free-float adjusted capitalisation weighted index of approximately 300 Australian equities (shares) representing over 90 per cent of the value of all Australian based companies and property trusts listed on the ASX.\n",
    "\n",
    "\n",
    "\n"
   ]
  },
  {
   "cell_type": "code",
   "execution_count": 2,
   "id": "49225065",
   "metadata": {},
   "outputs": [
    {
     "data": {
      "text/plain": [
       "yfinance.Ticker object <VAS.AX>"
      ]
     },
     "execution_count": 2,
     "metadata": {},
     "output_type": "execute_result"
    }
   ],
   "source": [
    "# create a ticker object for VAS\n",
    "vas = yf.Ticker(\"vas.ax\")\n",
    "vas"
   ]
  },
  {
   "cell_type": "code",
   "execution_count": 3,
   "id": "a94bcee1",
   "metadata": {},
   "outputs": [],
   "source": [
    "# using period = \"1y\" downloads last year of price data\n",
    "vas_historical = vas.history(period = \"1y\", interval=\"1d\")"
   ]
  },
  {
   "cell_type": "code",
   "execution_count": 4,
   "id": "9ffdf74f",
   "metadata": {},
   "outputs": [
    {
     "data": {
      "text/html": [
       "<div>\n",
       "<style scoped>\n",
       "    .dataframe tbody tr th:only-of-type {\n",
       "        vertical-align: middle;\n",
       "    }\n",
       "\n",
       "    .dataframe tbody tr th {\n",
       "        vertical-align: top;\n",
       "    }\n",
       "\n",
       "    .dataframe thead th {\n",
       "        text-align: right;\n",
       "    }\n",
       "</style>\n",
       "<table border=\"1\" class=\"dataframe\">\n",
       "  <thead>\n",
       "    <tr style=\"text-align: right;\">\n",
       "      <th></th>\n",
       "      <th>Open</th>\n",
       "      <th>High</th>\n",
       "      <th>Low</th>\n",
       "      <th>Close</th>\n",
       "      <th>Volume</th>\n",
       "      <th>Dividends</th>\n",
       "      <th>Stock Splits</th>\n",
       "    </tr>\n",
       "    <tr>\n",
       "      <th>Date</th>\n",
       "      <th></th>\n",
       "      <th></th>\n",
       "      <th></th>\n",
       "      <th></th>\n",
       "      <th></th>\n",
       "      <th></th>\n",
       "      <th></th>\n",
       "    </tr>\n",
       "  </thead>\n",
       "  <tbody>\n",
       "    <tr>\n",
       "      <th>2021-04-12</th>\n",
       "      <td>89.410004</td>\n",
       "      <td>89.500000</td>\n",
       "      <td>89.010002</td>\n",
       "      <td>89.260002</td>\n",
       "      <td>170916</td>\n",
       "      <td>0</td>\n",
       "      <td>0</td>\n",
       "    </tr>\n",
       "    <tr>\n",
       "      <th>2021-04-13</th>\n",
       "      <td>89.470001</td>\n",
       "      <td>89.570000</td>\n",
       "      <td>89.059998</td>\n",
       "      <td>89.120003</td>\n",
       "      <td>209759</td>\n",
       "      <td>0</td>\n",
       "      <td>0</td>\n",
       "    </tr>\n",
       "    <tr>\n",
       "      <th>2021-04-14</th>\n",
       "      <td>89.610001</td>\n",
       "      <td>89.940002</td>\n",
       "      <td>89.300003</td>\n",
       "      <td>89.889999</td>\n",
       "      <td>146785</td>\n",
       "      <td>0</td>\n",
       "      <td>0</td>\n",
       "    </tr>\n",
       "    <tr>\n",
       "      <th>2021-04-15</th>\n",
       "      <td>89.610001</td>\n",
       "      <td>90.500000</td>\n",
       "      <td>89.389999</td>\n",
       "      <td>90.320000</td>\n",
       "      <td>184449</td>\n",
       "      <td>0</td>\n",
       "      <td>0</td>\n",
       "    </tr>\n",
       "    <tr>\n",
       "      <th>2021-04-16</th>\n",
       "      <td>90.540001</td>\n",
       "      <td>90.540001</td>\n",
       "      <td>89.949997</td>\n",
       "      <td>90.370003</td>\n",
       "      <td>138895</td>\n",
       "      <td>0</td>\n",
       "      <td>0</td>\n",
       "    </tr>\n",
       "    <tr>\n",
       "      <th>...</th>\n",
       "      <td>...</td>\n",
       "      <td>...</td>\n",
       "      <td>...</td>\n",
       "      <td>...</td>\n",
       "      <td>...</td>\n",
       "      <td>...</td>\n",
       "      <td>...</td>\n",
       "    </tr>\n",
       "    <tr>\n",
       "      <th>2022-04-06</th>\n",
       "      <td>94.940002</td>\n",
       "      <td>95.199997</td>\n",
       "      <td>94.440002</td>\n",
       "      <td>95.139999</td>\n",
       "      <td>170782</td>\n",
       "      <td>0</td>\n",
       "      <td>0</td>\n",
       "    </tr>\n",
       "    <tr>\n",
       "      <th>2022-04-07</th>\n",
       "      <td>94.629997</td>\n",
       "      <td>94.800003</td>\n",
       "      <td>94.440002</td>\n",
       "      <td>94.510002</td>\n",
       "      <td>168138</td>\n",
       "      <td>0</td>\n",
       "      <td>0</td>\n",
       "    </tr>\n",
       "    <tr>\n",
       "      <th>2022-04-08</th>\n",
       "      <td>95.000000</td>\n",
       "      <td>95.089996</td>\n",
       "      <td>94.669998</td>\n",
       "      <td>94.940002</td>\n",
       "      <td>171177</td>\n",
       "      <td>0</td>\n",
       "      <td>0</td>\n",
       "    </tr>\n",
       "    <tr>\n",
       "      <th>2022-04-11</th>\n",
       "      <td>95.120003</td>\n",
       "      <td>95.519997</td>\n",
       "      <td>94.820000</td>\n",
       "      <td>95.059998</td>\n",
       "      <td>182101</td>\n",
       "      <td>0</td>\n",
       "      <td>0</td>\n",
       "    </tr>\n",
       "    <tr>\n",
       "      <th>2022-04-12</th>\n",
       "      <td>94.769997</td>\n",
       "      <td>95.010002</td>\n",
       "      <td>94.300003</td>\n",
       "      <td>94.599998</td>\n",
       "      <td>179763</td>\n",
       "      <td>0</td>\n",
       "      <td>0</td>\n",
       "    </tr>\n",
       "  </tbody>\n",
       "</table>\n",
       "<p>257 rows × 7 columns</p>\n",
       "</div>"
      ],
      "text/plain": [
       "                 Open       High        Low      Close  Volume  Dividends  \\\n",
       "Date                                                                        \n",
       "2021-04-12  89.410004  89.500000  89.010002  89.260002  170916          0   \n",
       "2021-04-13  89.470001  89.570000  89.059998  89.120003  209759          0   \n",
       "2021-04-14  89.610001  89.940002  89.300003  89.889999  146785          0   \n",
       "2021-04-15  89.610001  90.500000  89.389999  90.320000  184449          0   \n",
       "2021-04-16  90.540001  90.540001  89.949997  90.370003  138895          0   \n",
       "...               ...        ...        ...        ...     ...        ...   \n",
       "2022-04-06  94.940002  95.199997  94.440002  95.139999  170782          0   \n",
       "2022-04-07  94.629997  94.800003  94.440002  94.510002  168138          0   \n",
       "2022-04-08  95.000000  95.089996  94.669998  94.940002  171177          0   \n",
       "2022-04-11  95.120003  95.519997  94.820000  95.059998  182101          0   \n",
       "2022-04-12  94.769997  95.010002  94.300003  94.599998  179763          0   \n",
       "\n",
       "            Stock Splits  \n",
       "Date                      \n",
       "2021-04-12             0  \n",
       "2021-04-13             0  \n",
       "2021-04-14             0  \n",
       "2021-04-15             0  \n",
       "2021-04-16             0  \n",
       "...                  ...  \n",
       "2022-04-06             0  \n",
       "2022-04-07             0  \n",
       "2022-04-08             0  \n",
       "2022-04-11             0  \n",
       "2022-04-12             0  \n",
       "\n",
       "[257 rows x 7 columns]"
      ]
     },
     "execution_count": 4,
     "metadata": {},
     "output_type": "execute_result"
    }
   ],
   "source": [
    "vas_historical"
   ]
  },
  {
   "cell_type": "code",
   "execution_count": 5,
   "id": "19169e16",
   "metadata": {},
   "outputs": [],
   "source": [
    "# create a ticker object for S&P ASX 300 Index\n",
    "asx_300 = yf.Ticker(\"^AXKO\")"
   ]
  },
  {
   "cell_type": "code",
   "execution_count": 6,
   "id": "113d8ca8",
   "metadata": {},
   "outputs": [],
   "source": [
    "asx_300_historical = asx_300.history(period = \"1y\", interval=\"1d\")"
   ]
  },
  {
   "cell_type": "code",
   "execution_count": 7,
   "id": "77406f1e",
   "metadata": {},
   "outputs": [
    {
     "data": {
      "text/html": [
       "<div>\n",
       "<style scoped>\n",
       "    .dataframe tbody tr th:only-of-type {\n",
       "        vertical-align: middle;\n",
       "    }\n",
       "\n",
       "    .dataframe tbody tr th {\n",
       "        vertical-align: top;\n",
       "    }\n",
       "\n",
       "    .dataframe thead th {\n",
       "        text-align: right;\n",
       "    }\n",
       "</style>\n",
       "<table border=\"1\" class=\"dataframe\">\n",
       "  <thead>\n",
       "    <tr style=\"text-align: right;\">\n",
       "      <th></th>\n",
       "      <th>Open</th>\n",
       "      <th>High</th>\n",
       "      <th>Low</th>\n",
       "      <th>Close</th>\n",
       "      <th>Volume</th>\n",
       "      <th>Dividends</th>\n",
       "      <th>Stock Splits</th>\n",
       "    </tr>\n",
       "    <tr>\n",
       "      <th>Date</th>\n",
       "      <th></th>\n",
       "      <th></th>\n",
       "      <th></th>\n",
       "      <th></th>\n",
       "      <th></th>\n",
       "      <th></th>\n",
       "      <th></th>\n",
       "    </tr>\n",
       "  </thead>\n",
       "  <tbody>\n",
       "    <tr>\n",
       "      <th>2021-04-12</th>\n",
       "      <td>6987.500000</td>\n",
       "      <td>6987.500000</td>\n",
       "      <td>6947.799805</td>\n",
       "      <td>6963.799805</td>\n",
       "      <td>536900</td>\n",
       "      <td>0</td>\n",
       "      <td>0</td>\n",
       "    </tr>\n",
       "    <tr>\n",
       "      <th>2021-04-13</th>\n",
       "      <td>6965.000000</td>\n",
       "      <td>6987.899902</td>\n",
       "      <td>6954.100098</td>\n",
       "      <td>6967.500000</td>\n",
       "      <td>608500</td>\n",
       "      <td>0</td>\n",
       "      <td>0</td>\n",
       "    </tr>\n",
       "    <tr>\n",
       "      <th>2021-04-14</th>\n",
       "      <td>6974.600098</td>\n",
       "      <td>7019.600098</td>\n",
       "      <td>6973.600098</td>\n",
       "      <td>7015.700195</td>\n",
       "      <td>1058000</td>\n",
       "      <td>0</td>\n",
       "      <td>0</td>\n",
       "    </tr>\n",
       "    <tr>\n",
       "      <th>2021-04-15</th>\n",
       "      <td>7025.799805</td>\n",
       "      <td>7063.500000</td>\n",
       "      <td>6981.899902</td>\n",
       "      <td>7050.399902</td>\n",
       "      <td>830000</td>\n",
       "      <td>0</td>\n",
       "      <td>0</td>\n",
       "    </tr>\n",
       "    <tr>\n",
       "      <th>2021-04-16</th>\n",
       "      <td>7055.600098</td>\n",
       "      <td>7059.399902</td>\n",
       "      <td>7023.899902</td>\n",
       "      <td>7057.299805</td>\n",
       "      <td>792200</td>\n",
       "      <td>0</td>\n",
       "      <td>0</td>\n",
       "    </tr>\n",
       "    <tr>\n",
       "      <th>...</th>\n",
       "      <td>...</td>\n",
       "      <td>...</td>\n",
       "      <td>...</td>\n",
       "      <td>...</td>\n",
       "      <td>...</td>\n",
       "      <td>...</td>\n",
       "      <td>...</td>\n",
       "    </tr>\n",
       "    <tr>\n",
       "      <th>2022-04-06</th>\n",
       "      <td>7508.100098</td>\n",
       "      <td>7508.100098</td>\n",
       "      <td>7441.000000</td>\n",
       "      <td>7491.500000</td>\n",
       "      <td>1029800</td>\n",
       "      <td>0</td>\n",
       "      <td>0</td>\n",
       "    </tr>\n",
       "    <tr>\n",
       "      <th>2022-04-07</th>\n",
       "      <td>7483.899902</td>\n",
       "      <td>7483.899902</td>\n",
       "      <td>7437.000000</td>\n",
       "      <td>7441.299805</td>\n",
       "      <td>916000</td>\n",
       "      <td>0</td>\n",
       "      <td>0</td>\n",
       "    </tr>\n",
       "    <tr>\n",
       "      <th>2022-04-08</th>\n",
       "      <td>7454.500000</td>\n",
       "      <td>7491.299805</td>\n",
       "      <td>7452.200195</td>\n",
       "      <td>7476.899902</td>\n",
       "      <td>831700</td>\n",
       "      <td>0</td>\n",
       "      <td>0</td>\n",
       "    </tr>\n",
       "    <tr>\n",
       "      <th>2022-04-11</th>\n",
       "      <td>7487.399902</td>\n",
       "      <td>7525.100098</td>\n",
       "      <td>7470.600098</td>\n",
       "      <td>7483.200195</td>\n",
       "      <td>856000</td>\n",
       "      <td>0</td>\n",
       "      <td>0</td>\n",
       "    </tr>\n",
       "    <tr>\n",
       "      <th>2022-04-12</th>\n",
       "      <td>7483.200195</td>\n",
       "      <td>7483.200195</td>\n",
       "      <td>7427.200195</td>\n",
       "      <td>7450.299805</td>\n",
       "      <td>0</td>\n",
       "      <td>0</td>\n",
       "      <td>0</td>\n",
       "    </tr>\n",
       "  </tbody>\n",
       "</table>\n",
       "<p>257 rows × 7 columns</p>\n",
       "</div>"
      ],
      "text/plain": [
       "                   Open         High          Low        Close   Volume  \\\n",
       "Date                                                                      \n",
       "2021-04-12  6987.500000  6987.500000  6947.799805  6963.799805   536900   \n",
       "2021-04-13  6965.000000  6987.899902  6954.100098  6967.500000   608500   \n",
       "2021-04-14  6974.600098  7019.600098  6973.600098  7015.700195  1058000   \n",
       "2021-04-15  7025.799805  7063.500000  6981.899902  7050.399902   830000   \n",
       "2021-04-16  7055.600098  7059.399902  7023.899902  7057.299805   792200   \n",
       "...                 ...          ...          ...          ...      ...   \n",
       "2022-04-06  7508.100098  7508.100098  7441.000000  7491.500000  1029800   \n",
       "2022-04-07  7483.899902  7483.899902  7437.000000  7441.299805   916000   \n",
       "2022-04-08  7454.500000  7491.299805  7452.200195  7476.899902   831700   \n",
       "2022-04-11  7487.399902  7525.100098  7470.600098  7483.200195   856000   \n",
       "2022-04-12  7483.200195  7483.200195  7427.200195  7450.299805        0   \n",
       "\n",
       "            Dividends  Stock Splits  \n",
       "Date                                 \n",
       "2021-04-12          0             0  \n",
       "2021-04-13          0             0  \n",
       "2021-04-14          0             0  \n",
       "2021-04-15          0             0  \n",
       "2021-04-16          0             0  \n",
       "...               ...           ...  \n",
       "2022-04-06          0             0  \n",
       "2022-04-07          0             0  \n",
       "2022-04-08          0             0  \n",
       "2022-04-11          0             0  \n",
       "2022-04-12          0             0  \n",
       "\n",
       "[257 rows x 7 columns]"
      ]
     },
     "execution_count": 7,
     "metadata": {},
     "output_type": "execute_result"
    }
   ],
   "source": [
    "asx_300_historical"
   ]
  },
  {
   "cell_type": "code",
   "execution_count": 8,
   "id": "daf134e6",
   "metadata": {},
   "outputs": [
    {
     "data": {
      "text/plain": [
       "Date\n",
       "2021-04-13   -0.001568\n",
       "2021-04-14    0.008640\n",
       "2021-04-15    0.004784\n",
       "2021-04-16    0.000554\n",
       "2021-04-19    0.000553\n",
       "                ...   \n",
       "2022-04-06   -0.005332\n",
       "2022-04-07   -0.006622\n",
       "2022-04-08    0.004550\n",
       "2022-04-11    0.001264\n",
       "2022-04-12   -0.004839\n",
       "Name: Close, Length: 256, dtype: float64"
      ]
     },
     "execution_count": 8,
     "metadata": {},
     "output_type": "execute_result"
    }
   ],
   "source": [
    "# Calculate percentage returns for each fund in separate columns (i.e., ((new/old) - 1)) using pandas df.pct_change()\n",
    "\n",
    "vas_historical['Close'].pct_change().dropna()"
   ]
  },
  {
   "cell_type": "code",
   "execution_count": 9,
   "id": "76ae7819",
   "metadata": {},
   "outputs": [
    {
     "data": {
      "text/plain": [
       "Date\n",
       "2021-04-13    0.053135\n",
       "2021-04-14    0.691786\n",
       "2021-04-15    0.494601\n",
       "2021-04-16    0.097865\n",
       "2021-04-19    0.024091\n",
       "                ...   \n",
       "2022-04-06   -0.531103\n",
       "2022-04-07   -0.670095\n",
       "2022-04-08    0.478412\n",
       "2022-04-11    0.084263\n",
       "2022-04-12   -0.439657\n",
       "Name: Close, Length: 256, dtype: float64"
      ]
     },
     "execution_count": 9,
     "metadata": {},
     "output_type": "execute_result"
    }
   ],
   "source": [
    "asx_300_historical['Close'].pct_change().dropna()*100"
   ]
  },
  {
   "cell_type": "code",
   "execution_count": 10,
   "id": "93632239",
   "metadata": {},
   "outputs": [
    {
     "data": {
      "text/plain": [
       "0.20160912591367444"
      ]
     },
     "execution_count": 10,
     "metadata": {},
     "output_type": "execute_result"
    }
   ],
   "source": [
    "# Tracking error = Standard deviation of (P - B)\n",
    "\n",
    "(vas_historical['Close'].pct_change()-asx_300_historical[\"Close\"].pct_change()).std()*100"
   ]
  },
  {
   "cell_type": "markdown",
   "id": "07722805",
   "metadata": {},
   "source": [
    "## Tracking error \n",
    "\n",
    "### SPY and SPX regression analysis"
   ]
  },
  {
   "cell_type": "code",
   "execution_count": 11,
   "id": "5e8a1202",
   "metadata": {},
   "outputs": [],
   "source": [
    "# data is for 1-year of  the SPY ETF and the S&P 500 Index (SPX)\n",
    "# will use to compare against How to evaluate ETF's website\n",
    "path = r'/home/roddyb/R_Baker_Stock_Research/data/interim/SPY-and-SPX-regression.csv'"
   ]
  },
  {
   "cell_type": "code",
   "execution_count": 12,
   "id": "17c92093",
   "metadata": {},
   "outputs": [],
   "source": [
    "df = pd.read_csv(path, index_col = 0, parse_dates = True, infer_datetime_format=True)"
   ]
  },
  {
   "cell_type": "code",
   "execution_count": 13,
   "id": "0b972f37",
   "metadata": {},
   "outputs": [],
   "source": [
    "df.sort_values(by='Date', inplace=True)\n"
   ]
  },
  {
   "cell_type": "code",
   "execution_count": 14,
   "id": "a42814be",
   "metadata": {},
   "outputs": [
    {
     "data": {
      "text/plain": [
       "Date\n",
       "2020-10-20    0.472728\n",
       "2020-10-21   -0.219568\n",
       "2020-10-22    0.521895\n",
       "2020-10-23    0.344579\n",
       "2020-10-26   -1.858954\n",
       "Name: SPX Close, dtype: float64"
      ]
     },
     "execution_count": 14,
     "metadata": {},
     "output_type": "execute_result"
    }
   ],
   "source": [
    "spx_returns = df['SPX Close'].pct_change().dropna()*100\n",
    "spx_returns.head()"
   ]
  },
  {
   "cell_type": "code",
   "execution_count": 15,
   "id": "f143970d",
   "metadata": {},
   "outputs": [
    {
     "data": {
      "text/plain": [
       "Date\n",
       "2020-10-20    0.400573\n",
       "2020-10-21   -0.189295\n",
       "2020-10-22    0.548537\n",
       "2020-10-23    0.339514\n",
       "2020-10-26   -1.847996\n",
       "Name: SPY Close, dtype: float64"
      ]
     },
     "execution_count": 15,
     "metadata": {},
     "output_type": "execute_result"
    }
   ],
   "source": [
    "spy_returns = df['SPY Close'].pct_change().dropna()*100\n",
    "spy_returns.head()"
   ]
  },
  {
   "cell_type": "code",
   "execution_count": 16,
   "id": "e0d6acf0",
   "metadata": {},
   "outputs": [
    {
     "data": {
      "text/plain": [
       "0.06809640675056043"
      ]
     },
     "execution_count": 16,
     "metadata": {},
     "output_type": "execute_result"
    }
   ],
   "source": [
    "(spy_returns-spx_returns).std()"
   ]
  },
  {
   "cell_type": "code",
   "execution_count": 17,
   "id": "a3619f7a",
   "metadata": {},
   "outputs": [
    {
     "data": {
      "text/plain": [
       "0.06809640675056036"
      ]
     },
     "execution_count": 17,
     "metadata": {},
     "output_type": "execute_result"
    }
   ],
   "source": [
    "(df['SPY Close'].pct_change()- df['SPX Close'].pct_change()).std()*100"
   ]
  },
  {
   "cell_type": "code",
   "execution_count": 18,
   "id": "4efeda54",
   "metadata": {},
   "outputs": [
    {
     "data": {
      "text/plain": [
       "array([[1.        , 0.99680056],\n",
       "       [0.99680056, 1.        ]])"
      ]
     },
     "execution_count": 18,
     "metadata": {},
     "output_type": "execute_result"
    }
   ],
   "source": [
    "# calculate correlation coefficient with np\n",
    "np.corrcoef(spy_returns, spx_returns)"
   ]
  },
  {
   "cell_type": "code",
   "execution_count": 19,
   "id": "481ef24d",
   "metadata": {},
   "outputs": [
    {
     "data": {
      "text/plain": [
       "0.9968005550478527"
      ]
     },
     "execution_count": 19,
     "metadata": {},
     "output_type": "execute_result"
    }
   ],
   "source": [
    "spy_returns.corr(spx_returns)"
   ]
  },
  {
   "cell_type": "code",
   "execution_count": 20,
   "id": "b804a18f",
   "metadata": {},
   "outputs": [
    {
     "data": {
      "text/html": [
       "<div>\n",
       "<style scoped>\n",
       "    .dataframe tbody tr th:only-of-type {\n",
       "        vertical-align: middle;\n",
       "    }\n",
       "\n",
       "    .dataframe tbody tr th {\n",
       "        vertical-align: top;\n",
       "    }\n",
       "\n",
       "    .dataframe thead th {\n",
       "        text-align: right;\n",
       "    }\n",
       "</style>\n",
       "<table border=\"1\" class=\"dataframe\">\n",
       "  <thead>\n",
       "    <tr style=\"text-align: right;\">\n",
       "      <th></th>\n",
       "      <th>SPX Close</th>\n",
       "      <th>SPY Close</th>\n",
       "      <th>SPX Returns</th>\n",
       "      <th>SPY Returns</th>\n",
       "    </tr>\n",
       "    <tr>\n",
       "      <th>Date</th>\n",
       "      <th></th>\n",
       "      <th></th>\n",
       "      <th></th>\n",
       "      <th></th>\n",
       "    </tr>\n",
       "  </thead>\n",
       "  <tbody>\n",
       "    <tr>\n",
       "      <th>2020-10-19</th>\n",
       "      <td>3426.92</td>\n",
       "      <td>342.01</td>\n",
       "      <td>NaN</td>\n",
       "      <td>NaN</td>\n",
       "    </tr>\n",
       "    <tr>\n",
       "      <th>2020-10-20</th>\n",
       "      <td>3443.12</td>\n",
       "      <td>343.38</td>\n",
       "      <td>0.47%</td>\n",
       "      <td>0.40%</td>\n",
       "    </tr>\n",
       "    <tr>\n",
       "      <th>2020-10-21</th>\n",
       "      <td>3435.56</td>\n",
       "      <td>342.73</td>\n",
       "      <td>-0.22%</td>\n",
       "      <td>-0.19%</td>\n",
       "    </tr>\n",
       "    <tr>\n",
       "      <th>2020-10-22</th>\n",
       "      <td>3453.49</td>\n",
       "      <td>344.61</td>\n",
       "      <td>0.52%</td>\n",
       "      <td>0.55%</td>\n",
       "    </tr>\n",
       "    <tr>\n",
       "      <th>2020-10-23</th>\n",
       "      <td>3465.39</td>\n",
       "      <td>345.78</td>\n",
       "      <td>0.34%</td>\n",
       "      <td>0.34%</td>\n",
       "    </tr>\n",
       "    <tr>\n",
       "      <th>...</th>\n",
       "      <td>...</td>\n",
       "      <td>...</td>\n",
       "      <td>...</td>\n",
       "      <td>...</td>\n",
       "    </tr>\n",
       "    <tr>\n",
       "      <th>2021-10-11</th>\n",
       "      <td>4361.19</td>\n",
       "      <td>434.69</td>\n",
       "      <td>-0.69%</td>\n",
       "      <td>-0.72%</td>\n",
       "    </tr>\n",
       "    <tr>\n",
       "      <th>2021-10-12</th>\n",
       "      <td>4350.65</td>\n",
       "      <td>433.62</td>\n",
       "      <td>-0.24%</td>\n",
       "      <td>-0.25%</td>\n",
       "    </tr>\n",
       "    <tr>\n",
       "      <th>2021-10-13</th>\n",
       "      <td>4363.80</td>\n",
       "      <td>435.18</td>\n",
       "      <td>0.30%</td>\n",
       "      <td>0.36%</td>\n",
       "    </tr>\n",
       "    <tr>\n",
       "      <th>2021-10-14</th>\n",
       "      <td>4438.26</td>\n",
       "      <td>442.50</td>\n",
       "      <td>1.71%</td>\n",
       "      <td>1.68%</td>\n",
       "    </tr>\n",
       "    <tr>\n",
       "      <th>2021-10-15</th>\n",
       "      <td>4471.37</td>\n",
       "      <td>445.87</td>\n",
       "      <td>0.75%</td>\n",
       "      <td>0.76%</td>\n",
       "    </tr>\n",
       "  </tbody>\n",
       "</table>\n",
       "<p>251 rows × 4 columns</p>\n",
       "</div>"
      ],
      "text/plain": [
       "            SPX Close  SPY Close SPX Returns SPY Returns\n",
       "Date                                                    \n",
       "2020-10-19    3426.92     342.01         NaN         NaN\n",
       "2020-10-20    3443.12     343.38       0.47%       0.40%\n",
       "2020-10-21    3435.56     342.73      -0.22%      -0.19%\n",
       "2020-10-22    3453.49     344.61       0.52%       0.55%\n",
       "2020-10-23    3465.39     345.78       0.34%       0.34%\n",
       "...               ...        ...         ...         ...\n",
       "2021-10-11    4361.19     434.69      -0.69%      -0.72%\n",
       "2021-10-12    4350.65     433.62      -0.24%      -0.25%\n",
       "2021-10-13    4363.80     435.18       0.30%       0.36%\n",
       "2021-10-14    4438.26     442.50       1.71%       1.68%\n",
       "2021-10-15    4471.37     445.87       0.75%       0.76%\n",
       "\n",
       "[251 rows x 4 columns]"
      ]
     },
     "execution_count": 20,
     "metadata": {},
     "output_type": "execute_result"
    }
   ],
   "source": [
    "df"
   ]
  },
  {
   "cell_type": "markdown",
   "id": "374dc83f",
   "metadata": {},
   "source": [
    "### Rolling return analysis"
   ]
  },
  {
   "cell_type": "code",
   "execution_count": 21,
   "id": "489af045",
   "metadata": {},
   "outputs": [],
   "source": [
    "path_1 = r'/home/roddyb/R_Baker_Stock_Research/data/interim/SPY-and-SPX-Rolling-returns.csv'"
   ]
  },
  {
   "cell_type": "code",
   "execution_count": 22,
   "id": "bbd78e62",
   "metadata": {},
   "outputs": [],
   "source": [
    "df1 = pd.read_csv(path_1, index_col = 0, parse_dates = True, infer_datetime_format=True)"
   ]
  },
  {
   "cell_type": "code",
   "execution_count": 23,
   "id": "1d55f32e",
   "metadata": {},
   "outputs": [],
   "source": [
    "df1.sort_values(by='Date', inplace=True)"
   ]
  },
  {
   "cell_type": "code",
   "execution_count": 24,
   "id": "57816012",
   "metadata": {},
   "outputs": [
    {
     "data": {
      "text/html": [
       "<div>\n",
       "<style scoped>\n",
       "    .dataframe tbody tr th:only-of-type {\n",
       "        vertical-align: middle;\n",
       "    }\n",
       "\n",
       "    .dataframe tbody tr th {\n",
       "        vertical-align: top;\n",
       "    }\n",
       "\n",
       "    .dataframe thead th {\n",
       "        text-align: right;\n",
       "    }\n",
       "</style>\n",
       "<table border=\"1\" class=\"dataframe\">\n",
       "  <thead>\n",
       "    <tr style=\"text-align: right;\">\n",
       "      <th></th>\n",
       "      <th>SPX Close</th>\n",
       "      <th>SPY Close</th>\n",
       "    </tr>\n",
       "    <tr>\n",
       "      <th>Date</th>\n",
       "      <th></th>\n",
       "      <th></th>\n",
       "    </tr>\n",
       "  </thead>\n",
       "  <tbody>\n",
       "    <tr>\n",
       "      <th>2016-10-17</th>\n",
       "      <td>2126.50</td>\n",
       "      <td>212.38</td>\n",
       "    </tr>\n",
       "    <tr>\n",
       "      <th>2016-10-18</th>\n",
       "      <td>2139.60</td>\n",
       "      <td>213.71</td>\n",
       "    </tr>\n",
       "    <tr>\n",
       "      <th>2016-10-19</th>\n",
       "      <td>2144.29</td>\n",
       "      <td>214.28</td>\n",
       "    </tr>\n",
       "    <tr>\n",
       "      <th>2016-10-20</th>\n",
       "      <td>2141.34</td>\n",
       "      <td>213.88</td>\n",
       "    </tr>\n",
       "    <tr>\n",
       "      <th>2016-10-21</th>\n",
       "      <td>2141.16</td>\n",
       "      <td>213.98</td>\n",
       "    </tr>\n",
       "    <tr>\n",
       "      <th>...</th>\n",
       "      <td>...</td>\n",
       "      <td>...</td>\n",
       "    </tr>\n",
       "    <tr>\n",
       "      <th>2021-10-11</th>\n",
       "      <td>4361.19</td>\n",
       "      <td>434.69</td>\n",
       "    </tr>\n",
       "    <tr>\n",
       "      <th>2021-10-12</th>\n",
       "      <td>4350.65</td>\n",
       "      <td>433.62</td>\n",
       "    </tr>\n",
       "    <tr>\n",
       "      <th>2021-10-13</th>\n",
       "      <td>4363.80</td>\n",
       "      <td>435.18</td>\n",
       "    </tr>\n",
       "    <tr>\n",
       "      <th>2021-10-14</th>\n",
       "      <td>4438.26</td>\n",
       "      <td>442.50</td>\n",
       "    </tr>\n",
       "    <tr>\n",
       "      <th>2021-10-15</th>\n",
       "      <td>4471.37</td>\n",
       "      <td>445.87</td>\n",
       "    </tr>\n",
       "  </tbody>\n",
       "</table>\n",
       "<p>1259 rows × 2 columns</p>\n",
       "</div>"
      ],
      "text/plain": [
       "            SPX Close  SPY Close\n",
       "Date                            \n",
       "2016-10-17    2126.50     212.38\n",
       "2016-10-18    2139.60     213.71\n",
       "2016-10-19    2144.29     214.28\n",
       "2016-10-20    2141.34     213.88\n",
       "2016-10-21    2141.16     213.98\n",
       "...               ...        ...\n",
       "2021-10-11    4361.19     434.69\n",
       "2021-10-12    4350.65     433.62\n",
       "2021-10-13    4363.80     435.18\n",
       "2021-10-14    4438.26     442.50\n",
       "2021-10-15    4471.37     445.87\n",
       "\n",
       "[1259 rows x 2 columns]"
      ]
     },
     "execution_count": 24,
     "metadata": {},
     "output_type": "execute_result"
    }
   ],
   "source": [
    "df1"
   ]
  },
  {
   "cell_type": "code",
   "execution_count": 25,
   "id": "f82ed52e",
   "metadata": {},
   "outputs": [
    {
     "data": {
      "text/plain": [
       "<AxesSubplot:xlabel='Date'>"
      ]
     },
     "execution_count": 25,
     "metadata": {},
     "output_type": "execute_result"
    },
    {
     "data": {
      "image/png": "[encoded data removed]",
      "text/plain": [
       "<Figure size 432x288 with 1 Axes>"
      ]
     },
     "metadata": {
      "needs_background": "light"
     },
     "output_type": "display_data"
    }
   ],
   "source": [
    "df1.pct_change(periods=252).plot(xlim = (pd.Timestamp('2020-10-15'), pd.Timestamp('2021-10-15')))"
   ]
  },
  {
   "cell_type": "code",
   "execution_count": 26,
   "id": "173d2ddb",
   "metadata": {},
   "outputs": [],
   "source": [
    "per_change = df1.pct_change(periods=252)"
   ]
  },
  {
   "cell_type": "code",
   "execution_count": 27,
   "id": "5708d0e1",
   "metadata": {},
   "outputs": [],
   "source": [
    "sliced = per_change.loc['2020-10-15' : '2021-10-15']"
   ]
  },
  {
   "cell_type": "code",
   "execution_count": 28,
   "id": "72b52dbb",
   "metadata": {},
   "outputs": [
    {
     "data": {
      "text/plain": [
       "30.39677216560116"
      ]
     },
     "execution_count": 28,
     "metadata": {},
     "output_type": "execute_result"
    }
   ],
   "source": [
    "sliced['SPX Close'].mean()*100"
   ]
  },
  {
   "cell_type": "code",
   "execution_count": 29,
   "id": "a70fb2ca",
   "metadata": {},
   "outputs": [
    {
     "data": {
      "text/plain": [
       "30.314779719517816"
      ]
     },
     "execution_count": 29,
     "metadata": {},
     "output_type": "execute_result"
    }
   ],
   "source": [
    "sliced['SPY Close'].mean()*100"
   ]
  },
  {
   "cell_type": "code",
   "execution_count": 30,
   "id": "37544fb4",
   "metadata": {},
   "outputs": [],
   "source": [
    "Tracking_difference = sliced['SPY Close'].mean()*100 - sliced['SPX Close'].mean()*100"
   ]
  },
  {
   "cell_type": "code",
   "execution_count": 31,
   "id": "c9b85f93",
   "metadata": {},
   "outputs": [
    {
     "data": {
      "text/plain": [
       "-0.0819924460833441"
      ]
     },
     "execution_count": 31,
     "metadata": {},
     "output_type": "execute_result"
    }
   ],
   "source": [
    "Tracking_difference"
   ]
  },
  {
   "cell_type": "code",
   "execution_count": 32,
   "id": "4eac68f0",
   "metadata": {},
   "outputs": [
    {
     "data": {
      "text/html": [
       "<div>\n",
       "<style scoped>\n",
       "    .dataframe tbody tr th:only-of-type {\n",
       "        vertical-align: middle;\n",
       "    }\n",
       "\n",
       "    .dataframe tbody tr th {\n",
       "        vertical-align: top;\n",
       "    }\n",
       "\n",
       "    .dataframe thead th {\n",
       "        text-align: right;\n",
       "    }\n",
       "</style>\n",
       "<table border=\"1\" class=\"dataframe\">\n",
       "  <thead>\n",
       "    <tr style=\"text-align: right;\">\n",
       "      <th></th>\n",
       "      <th>SPX Close</th>\n",
       "      <th>SPY Close</th>\n",
       "    </tr>\n",
       "    <tr>\n",
       "      <th>Date</th>\n",
       "      <th></th>\n",
       "      <th></th>\n",
       "    </tr>\n",
       "  </thead>\n",
       "  <tbody>\n",
       "    <tr>\n",
       "      <th>2020-10-15</th>\n",
       "      <td>0.165117</td>\n",
       "      <td>0.164544</td>\n",
       "    </tr>\n",
       "    <tr>\n",
       "      <th>2020-10-16</th>\n",
       "      <td>0.162064</td>\n",
       "      <td>0.160418</td>\n",
       "    </tr>\n",
       "    <tr>\n",
       "      <th>2020-10-19</th>\n",
       "      <td>0.147586</td>\n",
       "      <td>0.147800</td>\n",
       "    </tr>\n",
       "    <tr>\n",
       "      <th>2020-10-20</th>\n",
       "      <td>0.145142</td>\n",
       "      <td>0.144638</td>\n",
       "    </tr>\n",
       "    <tr>\n",
       "      <th>2020-10-21</th>\n",
       "      <td>0.146719</td>\n",
       "      <td>0.146216</td>\n",
       "    </tr>\n",
       "    <tr>\n",
       "      <th>...</th>\n",
       "      <td>...</td>\n",
       "      <td>...</td>\n",
       "    </tr>\n",
       "    <tr>\n",
       "      <th>2021-10-11</th>\n",
       "      <td>0.254250</td>\n",
       "      <td>0.253251</td>\n",
       "    </tr>\n",
       "    <tr>\n",
       "      <th>2021-10-12</th>\n",
       "      <td>0.231007</td>\n",
       "      <td>0.230372</td>\n",
       "    </tr>\n",
       "    <tr>\n",
       "      <th>2021-10-13</th>\n",
       "      <td>0.242565</td>\n",
       "      <td>0.242910</td>\n",
       "    </tr>\n",
       "    <tr>\n",
       "      <th>2021-10-14</th>\n",
       "      <td>0.272193</td>\n",
       "      <td>0.271808</td>\n",
       "    </tr>\n",
       "    <tr>\n",
       "      <th>2021-10-15</th>\n",
       "      <td>0.283644</td>\n",
       "      <td>0.283079</td>\n",
       "    </tr>\n",
       "  </tbody>\n",
       "</table>\n",
       "<p>253 rows × 2 columns</p>\n",
       "</div>"
      ],
      "text/plain": [
       "            SPX Close  SPY Close\n",
       "Date                            \n",
       "2020-10-15   0.165117   0.164544\n",
       "2020-10-16   0.162064   0.160418\n",
       "2020-10-19   0.147586   0.147800\n",
       "2020-10-20   0.145142   0.144638\n",
       "2020-10-21   0.146719   0.146216\n",
       "...               ...        ...\n",
       "2021-10-11   0.254250   0.253251\n",
       "2021-10-12   0.231007   0.230372\n",
       "2021-10-13   0.242565   0.242910\n",
       "2021-10-14   0.272193   0.271808\n",
       "2021-10-15   0.283644   0.283079\n",
       "\n",
       "[253 rows x 2 columns]"
      ]
     },
     "execution_count": 32,
     "metadata": {},
     "output_type": "execute_result"
    }
   ],
   "source": [
    "sliced"
   ]
  },
  {
   "cell_type": "code",
   "execution_count": 33,
   "id": "3b96c5dc",
   "metadata": {},
   "outputs": [
    {
     "data": {
      "text/plain": [
       "<AxesSubplot:xlabel='Date'>"
      ]
     },
     "execution_count": 33,
     "metadata": {},
     "output_type": "execute_result"
    },
    {
     "data": {
      "image/png": "[encoded data removed]",
      "text/plain": [
       "<Figure size 432x288 with 1 Axes>"
      ]
     },
     "metadata": {
      "needs_background": "light"
     },
     "output_type": "display_data"
    }
   ],
   "source": [
    "df['SPY Close'].plot()"
   ]
  },
  {
   "cell_type": "code",
   "execution_count": 34,
   "id": "bc767cfb",
   "metadata": {},
   "outputs": [
    {
     "data": {
      "text/plain": [
       "<AxesSubplot:xlabel='Date'>"
      ]
     },
     "execution_count": 34,
     "metadata": {},
     "output_type": "execute_result"
    },
    {
     "data": {
      "image/png": "[encoded data removed]",
      "text/plain": [
       "<Figure size 432x288 with 1 Axes>"
      ]
     },
     "metadata": {
      "needs_background": "light"
     },
     "output_type": "display_data"
    }
   ],
   "source": [
    "per_change['SPY Close'].plot()"
   ]
  },
  {
   "cell_type": "code",
   "execution_count": 35,
   "id": "6272d764",
   "metadata": {},
   "outputs": [
    {
     "data": {
      "text/plain": [
       "<AxesSubplot:xlabel='Date'>"
      ]
     },
     "execution_count": 35,
     "metadata": {},
     "output_type": "execute_result"
    },
    {
     "data": {
      "image/png": "[encoded data removed]",
      "text/plain": [
       "<Figure size 432x288 with 1 Axes>"
      ]
     },
     "metadata": {
      "needs_background": "light"
     },
     "output_type": "display_data"
    }
   ],
   "source": [
    "df1['SPY Close'].plot()"
   ]
  },
  {
   "cell_type": "code",
   "execution_count": 38,
   "id": "60a65611",
   "metadata": {},
   "outputs": [
    {
     "data": {
      "text/plain": [
       "yfinance.Ticker object <SPY>"
      ]
     },
     "execution_count": 38,
     "metadata": {},
     "output_type": "execute_result"
    }
   ],
   "source": [
    "# create a ticker object for SPY\n",
    "spy = yf.Ticker(\"SPY\")\n",
    "spy"
   ]
  },
  {
   "cell_type": "code",
   "execution_count": 39,
   "id": "efd7e91c",
   "metadata": {},
   "outputs": [],
   "source": [
    "# using period = \"1y\" downloads last year of price data\n",
    "spy_historical = spy.history(period = \"1y\", interval=\"1d\")"
   ]
  },
  {
   "cell_type": "code",
   "execution_count": 40,
   "id": "a3688869",
   "metadata": {},
   "outputs": [
    {
     "data": {
      "text/plain": [
       "yfinance.Ticker object <^GSPC>"
      ]
     },
     "execution_count": 40,
     "metadata": {},
     "output_type": "execute_result"
    }
   ],
   "source": [
    "# create a ticker object for SPY\n",
    "spx = yf.Ticker(\"^GSPC\")\n",
    "spx"
   ]
  },
  {
   "cell_type": "code",
   "execution_count": 41,
   "id": "038cf728",
   "metadata": {},
   "outputs": [],
   "source": [
    "# using period = \"1y\" downloads last year of price data\n",
    "spx_historical = spx.history(period = \"1y\", interval=\"1d\")"
   ]
  },
  {
   "cell_type": "code",
   "execution_count": 42,
   "id": "6132c546",
   "metadata": {},
   "outputs": [
    {
     "data": {
      "text/html": [
       "<div>\n",
       "<style scoped>\n",
       "    .dataframe tbody tr th:only-of-type {\n",
       "        vertical-align: middle;\n",
       "    }\n",
       "\n",
       "    .dataframe tbody tr th {\n",
       "        vertical-align: top;\n",
       "    }\n",
       "\n",
       "    .dataframe thead th {\n",
       "        text-align: right;\n",
       "    }\n",
       "</style>\n",
       "<table border=\"1\" class=\"dataframe\">\n",
       "  <thead>\n",
       "    <tr style=\"text-align: right;\">\n",
       "      <th></th>\n",
       "      <th>Open</th>\n",
       "      <th>High</th>\n",
       "      <th>Low</th>\n",
       "      <th>Close</th>\n",
       "      <th>Volume</th>\n",
       "      <th>Dividends</th>\n",
       "      <th>Stock Splits</th>\n",
       "    </tr>\n",
       "    <tr>\n",
       "      <th>Date</th>\n",
       "      <th></th>\n",
       "      <th></th>\n",
       "      <th></th>\n",
       "      <th></th>\n",
       "      <th></th>\n",
       "      <th></th>\n",
       "      <th></th>\n",
       "    </tr>\n",
       "  </thead>\n",
       "  <tbody>\n",
       "    <tr>\n",
       "      <th>2021-04-07</th>\n",
       "      <td>4074.290039</td>\n",
       "      <td>4083.129883</td>\n",
       "      <td>4068.310059</td>\n",
       "      <td>4079.949951</td>\n",
       "      <td>4112640000</td>\n",
       "      <td>0</td>\n",
       "      <td>0</td>\n",
       "    </tr>\n",
       "    <tr>\n",
       "      <th>2021-04-08</th>\n",
       "      <td>4089.949951</td>\n",
       "      <td>4098.189941</td>\n",
       "      <td>4082.540039</td>\n",
       "      <td>4097.169922</td>\n",
       "      <td>3901910000</td>\n",
       "      <td>0</td>\n",
       "      <td>0</td>\n",
       "    </tr>\n",
       "    <tr>\n",
       "      <th>2021-04-09</th>\n",
       "      <td>4096.109863</td>\n",
       "      <td>4129.479980</td>\n",
       "      <td>4095.510010</td>\n",
       "      <td>4128.799805</td>\n",
       "      <td>3634910000</td>\n",
       "      <td>0</td>\n",
       "      <td>0</td>\n",
       "    </tr>\n",
       "    <tr>\n",
       "      <th>2021-04-12</th>\n",
       "      <td>4124.709961</td>\n",
       "      <td>4131.759766</td>\n",
       "      <td>4114.819824</td>\n",
       "      <td>4127.990234</td>\n",
       "      <td>3578500000</td>\n",
       "      <td>0</td>\n",
       "      <td>0</td>\n",
       "    </tr>\n",
       "    <tr>\n",
       "      <th>2021-04-13</th>\n",
       "      <td>4130.100098</td>\n",
       "      <td>4148.000000</td>\n",
       "      <td>4124.430176</td>\n",
       "      <td>4141.589844</td>\n",
       "      <td>3728440000</td>\n",
       "      <td>0</td>\n",
       "      <td>0</td>\n",
       "    </tr>\n",
       "    <tr>\n",
       "      <th>...</th>\n",
       "      <td>...</td>\n",
       "      <td>...</td>\n",
       "      <td>...</td>\n",
       "      <td>...</td>\n",
       "      <td>...</td>\n",
       "      <td>...</td>\n",
       "      <td>...</td>\n",
       "    </tr>\n",
       "    <tr>\n",
       "      <th>2022-03-31</th>\n",
       "      <td>4599.020020</td>\n",
       "      <td>4603.069824</td>\n",
       "      <td>4530.410156</td>\n",
       "      <td>4530.410156</td>\n",
       "      <td>3782040000</td>\n",
       "      <td>0</td>\n",
       "      <td>0</td>\n",
       "    </tr>\n",
       "    <tr>\n",
       "      <th>2022-04-01</th>\n",
       "      <td>4540.319824</td>\n",
       "      <td>4548.700195</td>\n",
       "      <td>4507.569824</td>\n",
       "      <td>4545.859863</td>\n",
       "      <td>3828290000</td>\n",
       "      <td>0</td>\n",
       "      <td>0</td>\n",
       "    </tr>\n",
       "    <tr>\n",
       "      <th>2022-04-04</th>\n",
       "      <td>4547.970215</td>\n",
       "      <td>4583.500000</td>\n",
       "      <td>4539.209961</td>\n",
       "      <td>4582.640137</td>\n",
       "      <td>3833500000</td>\n",
       "      <td>0</td>\n",
       "      <td>0</td>\n",
       "    </tr>\n",
       "    <tr>\n",
       "      <th>2022-04-05</th>\n",
       "      <td>4572.450195</td>\n",
       "      <td>4593.450195</td>\n",
       "      <td>4514.169922</td>\n",
       "      <td>4525.120117</td>\n",
       "      <td>3906230000</td>\n",
       "      <td>0</td>\n",
       "      <td>0</td>\n",
       "    </tr>\n",
       "    <tr>\n",
       "      <th>2022-04-06</th>\n",
       "      <td>4494.169922</td>\n",
       "      <td>4503.939941</td>\n",
       "      <td>4450.040039</td>\n",
       "      <td>4481.149902</td>\n",
       "      <td>4137080000</td>\n",
       "      <td>0</td>\n",
       "      <td>0</td>\n",
       "    </tr>\n",
       "  </tbody>\n",
       "</table>\n",
       "<p>254 rows × 7 columns</p>\n",
       "</div>"
      ],
      "text/plain": [
       "                   Open         High          Low        Close      Volume  \\\n",
       "Date                                                                         \n",
       "2021-04-07  4074.290039  4083.129883  4068.310059  4079.949951  4112640000   \n",
       "2021-04-08  4089.949951  4098.189941  4082.540039  4097.169922  3901910000   \n",
       "2021-04-09  4096.109863  4129.479980  4095.510010  4128.799805  3634910000   \n",
       "2021-04-12  4124.709961  4131.759766  4114.819824  4127.990234  3578500000   \n",
       "2021-04-13  4130.100098  4148.000000  4124.430176  4141.589844  3728440000   \n",
       "...                 ...          ...          ...          ...         ...   \n",
       "2022-03-31  4599.020020  4603.069824  4530.410156  4530.410156  3782040000   \n",
       "2022-04-01  4540.319824  4548.700195  4507.569824  4545.859863  3828290000   \n",
       "2022-04-04  4547.970215  4583.500000  4539.209961  4582.640137  3833500000   \n",
       "2022-04-05  4572.450195  4593.450195  4514.169922  4525.120117  3906230000   \n",
       "2022-04-06  4494.169922  4503.939941  4450.040039  4481.149902  4137080000   \n",
       "\n",
       "            Dividends  Stock Splits  \n",
       "Date                                 \n",
       "2021-04-07          0             0  \n",
       "2021-04-08          0             0  \n",
       "2021-04-09          0             0  \n",
       "2021-04-12          0             0  \n",
       "2021-04-13          0             0  \n",
       "...               ...           ...  \n",
       "2022-03-31          0             0  \n",
       "2022-04-01          0             0  \n",
       "2022-04-04          0             0  \n",
       "2022-04-05          0             0  \n",
       "2022-04-06          0             0  \n",
       "\n",
       "[254 rows x 7 columns]"
      ]
     },
     "execution_count": 42,
     "metadata": {},
     "output_type": "execute_result"
    }
   ],
   "source": [
    "spx_historical"
   ]
  },
  {
   "cell_type": "code",
   "execution_count": 45,
   "id": "71467d0e",
   "metadata": {},
   "outputs": [
    {
     "data": {
      "text/plain": [
       "0.040062072167969046"
      ]
     },
     "execution_count": 45,
     "metadata": {},
     "output_type": "execute_result"
    }
   ],
   "source": [
    "(spy_historical['Close'].pct_change()- spx_historical['Close'].pct_change()).std()*100"
   ]
  },
  {
   "cell_type": "code",
   "execution_count": null,
   "id": "dcd4a3af",
   "metadata": {},
   "outputs": [],
   "source": []
  }
 ],
 "metadata": {
  "kernelspec": {
   "display_name": "Python 3 (ipykernel)",
   "language": "python",
   "name": "python3"
  },
  "language_info": {
   "codemirror_mode": {
    "name": "ipython",
    "version": 3
   },
   "file_extension": ".py",
   "mimetype": "text/x-python",
   "name": "python",
   "nbconvert_exporter": "python",
   "pygments_lexer": "ipython3",
   "version": "3.9.7"
  }
 },
 "nbformat": 4,
 "nbformat_minor": 5
}
